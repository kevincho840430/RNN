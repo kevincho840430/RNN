{
 "cells": [
  {
   "cell_type": "markdown",
   "metadata": {},
   "source": [
    "# 使用LSTM與GRU進行手寫辨識預測\n",
    "<br>\n",
    "<img src='images/Keras sequential (LSTM GRU)模型建立.png'/>"
   ]
  },
  {
   "cell_type": "markdown",
   "metadata": {},
   "source": [
    "## 目錄\n",
    "- 1.導入tensorflow_keras內建的MNIST資料集\n",
    "- 2.建立順序型架構模型 model\n",
    "    - 加入LSTM/ GRU層\n",
    "    - 依序繼續搭建整個神經網路\n",
    "    - 設定最佳化器\n",
    "    - 編譯模型\n",
    "    - 開始訓練\n",
    "    - 訓練完畢，計算訓練分數\n",
    "- 3.結論"
   ]
  },
  {
   "cell_type": "code",
   "execution_count": 1,
   "metadata": {},
   "outputs": [],
   "source": [
    "import tensorflow as tf\n",
    "from tensorflow.python.keras.models import Sequential\n",
    "from tensorflow.python.keras.layers import Dense, Dropout, LSTM, SimpleRNN, GRU\n",
    "import numpy as np\n",
    "import matplotlib.pyplot as plt"
   ]
  },
  {
   "cell_type": "markdown",
   "metadata": {},
   "source": [
    "## 1.導入tensorflow_keras內建的MNIST資料集"
   ]
  },
  {
   "cell_type": "code",
   "execution_count": 3,
   "metadata": {},
   "outputs": [
    {
     "name": "stdout",
     "output_type": "stream",
     "text": [
      "(60000, 28, 28)\n",
      "(28, 28)\n"
     ]
    }
   ],
   "source": [
    "mnist = tf.keras.datasets.mnist\n",
    "(x_train, y_train), (x_test, y_test) = mnist.load_data()\n",
    "# 標準化數據\n",
    "x_train = x_train/255.0\n",
    "x_test = x_test/255.0\n",
    "print(x_train.shape)\n",
    "print(x_train[0].shape)"
   ]
  },
  {
   "cell_type": "code",
   "execution_count": 4,
   "metadata": {},
   "outputs": [
    {
     "data": {
      "text/plain": [
       "(1, 3)"
      ]
     },
     "execution_count": 4,
     "metadata": {},
     "output_type": "execute_result"
    }
   ],
   "source": [
    "import numpy as np\n",
    "np.array([[1, 2, 2]]).shape"
   ]
  },
  {
   "cell_type": "markdown",
   "metadata": {},
   "source": [
    "## 2.建立順序型架構模型 model"
   ]
  },
  {
   "cell_type": "code",
   "execution_count": 5,
   "metadata": {},
   "outputs": [],
   "source": [
    "model = Sequential()"
   ]
  },
  {
   "cell_type": "markdown",
   "metadata": {},
   "source": [
    "### 加入RNN層\n"
   ]
  },
  {
   "cell_type": "code",
   "execution_count": 6,
   "metadata": {},
   "outputs": [],
   "source": [
    "# LSTM 模型\n",
    "# model.add(LSTM(units = 128, activation='tanh', dropout=0.0,\n",
    "# recurrent_dropout=0.0, return_sequences=True))\n",
    "\n",
    "# GRU 模型\n",
    "model.add(GRU(units=128, activation='tanh', dropout=0.0,\n",
    "              recurrent_dropout=0.0, return_sequences=True))"
   ]
  },
  {
   "cell_type": "markdown",
   "metadata": {},
   "source": [
    "#### 參數 return_sequences=True 很重要。\n",
    "- return_sequences: 布林值。是返回输出序列中的最後一個輸出，還是完整的序列。(Keras官網)\n",
    "- 沒有設定成True的話，第二個RNN層得到的輸入會只剩下1維。\n",
    "- return_sequences會讓輸出以相當於輸入的序列傳遞到下一層。\n",
    "- 如果不打算放第二層RNN就不用管這個了(defalt: False)\n",
    "\n",
    "#### Note: 因為RNN對輸入有要求，所以如果放在第一層要確認好輸入的形式。否則第一層可以透過CNN來調整輸入資料。"
   ]
  },
  {
   "cell_type": "markdown",
   "metadata": {},
   "source": [
    "### 依序繼續搭建整個神經網路\n",
    "\n"
   ]
  },
  {
   "cell_type": "code",
   "execution_count": 7,
   "metadata": {},
   "outputs": [],
   "source": [
    "model.add(Dropout(0.2))\n",
    "\n",
    "# LSTM模型\n",
    "# model.add(LSTM(units=128, activation='relu'))\n",
    "\n",
    "# GRU模型\n",
    "model.add(GRU(units=128, activation='relu'))\n",
    "\n",
    "model.add(Dropout(0.2))\n",
    "model.add(Dense(32, activation='relu'))\n",
    "model.add(Dropout(0.1))\n",
    "model.add(Dense(10, activation='softmax'))"
   ]
  },
  {
   "cell_type": "markdown",
   "metadata": {},
   "source": [
    "### 設定最佳化器\n",
    "\n",
    "Adam會動態調整Learning Rate，並具有慣量，讓他能夠衝破Local Minimun的侷限。"
   ]
  },
  {
   "cell_type": "code",
   "execution_count": 8,
   "metadata": {},
   "outputs": [],
   "source": [
    "opt = tf.keras.optimizers.Adam(lr=0.001, decay=1e-6)"
   ]
  },
  {
   "cell_type": "markdown",
   "metadata": {},
   "source": [
    "### 編譯模型\n",
    "\n",
    "- Loss Function 設定成Crossentropy，並使用accuracy指標來評估訓練效果。"
   ]
  },
  {
   "cell_type": "code",
   "execution_count": 9,
   "metadata": {},
   "outputs": [],
   "source": [
    "model.compile(loss='sparse_categorical_crossentropy',\n",
    "              optimizer=opt, metrics=['accuracy'])"
   ]
  },
  {
   "cell_type": "markdown",
   "metadata": {},
   "source": [
    "### 開始訓練\n",
    "##### Note: LSTM要訓練很久，epoch最好不要太大。"
   ]
  },
  {
   "cell_type": "code",
   "execution_count": 10,
   "metadata": {},
   "outputs": [
    {
     "name": "stdout",
     "output_type": "stream",
     "text": [
      "Train on 60000 samples, validate on 10000 samples\n",
      "Epoch 1/3\n",
      "60000/60000 [==============================] - 112s 2ms/sample - loss: 0.3771 - accuracy: 0.8802 - val_loss: 0.1094 - val_accuracy: 0.9683\n",
      "Epoch 2/3\n",
      "60000/60000 [==============================] - 107s 2ms/sample - loss: 0.1060 - accuracy: 0.9711 - val_loss: 0.0689 - val_accuracy: 0.9801\n",
      "Epoch 3/3\n",
      "60000/60000 [==============================] - 107s 2ms/sample - loss: 0.0746 - accuracy: 0.9798 - val_loss: 0.0498 - val_accuracy: 0.9860\n"
     ]
    },
    {
     "data": {
      "text/plain": [
       "<tensorflow.python.keras.callbacks.History at 0x7fa8787ebf28>"
      ]
     },
     "execution_count": 10,
     "metadata": {},
     "output_type": "execute_result"
    }
   ],
   "source": [
    "model.fit(x_train, y_train, epochs=3, validation_data=(x_test, y_test))"
   ]
  },
  {
   "cell_type": "markdown",
   "metadata": {},
   "source": [
    "### 訓練完畢，計算訓練分數\n",
    "- 這邊是用Keras內建的evaluate計算訓練分數。\n",
    "- 訓練的分數是基於model.compile時設定的metric(指標)來進行計算。\n",
    "- 也可以考慮用sklearn.metrics裡面的函數來計算分數(裡面有諸多包括F1, ROC, AUC...的指標可以用來計算)。 "
   ]
  },
  {
   "cell_type": "code",
   "execution_count": 13,
   "metadata": {},
   "outputs": [
    {
     "name": "stdout",
     "output_type": "stream",
     "text": [
      "測試損失度: 0.04979023582015652\n",
      "測試準確率: 0.986\n"
     ]
    }
   ],
   "source": [
    "score = model.evaluate(x_test, y_test, verbose=0)\n",
    "\n",
    "print('測試損失度:', score[0])\n",
    "print('測試準確率:', score[1])"
   ]
  },
  {
   "cell_type": "markdown",
   "metadata": {},
   "source": [
    "## 總結一下整個Sequential model的流程\n",
    "#### - 基本上除了把SimpleRNN API 換成 LSTM/GRU API以外是沒有變的，在建置上感覺不出差異\n",
    "<br>\n",
    "<img src='images/LSTM GRU模型 (sequential).png'/>"
   ]
  },
  {
   "cell_type": "markdown",
   "metadata": {},
   "source": [
    "## 結論\n",
    "在我的測試中...\n",
    "- simpleRNN(原始的RNN)的測試損失度:0.211630; 測試準確率:0.9399\n",
    "- LSTM模型的測試損失度: 0.09239; 測試準確率: 0.9753 (訓練很久)\n",
    "- GRU模型的測試損失度: 0.054459; 測試準確率: 0.9842 (訓練很久)\n",
    "\n",
    "### 可以知道\n",
    "- simpleRNN訓練最快，但效果最差。在Loss上的表現與LSTM與GRU可說是天差地別。\n",
    "- LSTM和GRU訓練雖久，但也有與其匹配的準確度和價值。\n",
    "\n",
    "##### Note: 事實上RNN並不擅長在圖像上做辨識，在之後的課程我們會繼續說明RNN的應用方法。\n"
   ]
  }
 ],
 "metadata": {
  "kernelspec": {
   "display_name": "Python 3",
   "language": "python",
   "name": "python3"
  },
  "language_info": {
   "codemirror_mode": {
    "name": "ipython",
    "version": 3
   },
   "file_extension": ".py",
   "mimetype": "text/x-python",
   "name": "python",
   "nbconvert_exporter": "python",
   "pygments_lexer": "ipython3",
   "version": "3.7.3"
  }
 },
 "nbformat": 4,
 "nbformat_minor": 4
}
