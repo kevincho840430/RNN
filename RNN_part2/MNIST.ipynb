{
 "cells": [
  {
   "cell_type": "markdown",
   "metadata": {},
   "source": [
    "# 使用最經典的RNN進行手寫辨識預測"
   ]
  },
  {
   "cell_type": "markdown",
   "metadata": {},
   "source": [
    "<img src='images/RNN_MNIST_Porcess.png'/>"
   ]
  },
  {
   "cell_type": "markdown",
   "metadata": {},
   "source": [
    "### 目錄\n",
    "- 1.導入tensorflow_keras內建的MNIST資料集\n",
    "- 2.建立順序型架構模型 model\n",
    "    - 加入RNN層\n",
    "    - 依序繼續搭建整個神經網路\n",
    "    - 設定最佳化器\n",
    "    - 編譯模型\n",
    "    - 開始訓練\n",
    "    - 訓練完畢，計算訓練分數\n",
    "- 3.導入影像進行預測教學\n",
    "    - 針對前500張test資料集做預測\n",
    "    - 定義一個基於matplotlib.pyplot的影像輸出函數\n",
    "    - 進行預測\n",
    "    - 進行錯誤分析\n",
    "- 補充: Practice1 將simpleRNN換成LSTM和GRU模型，評估訓練效果是否提高。"
   ]
  },
  {
   "cell_type": "code",
   "execution_count": 2,
   "metadata": {},
   "outputs": [],
   "source": [
    "import tensorflow as tf\n",
    "from tensorflow.python.keras.models import Sequential\n",
    "from tensorflow.python.keras.layers import Dense, Dropout, LSTM, SimpleRNN, RNN\n",
    "import numpy as np\n",
    "import matplotlib.pyplot as plt"
   ]
  },
  {
   "cell_type": "markdown",
   "metadata": {},
   "source": [
    "## 1.導入tensorflow_keras內建的MNIST資料集"
   ]
  },
  {
   "cell_type": "code",
   "execution_count": 3,
   "metadata": {},
   "outputs": [
    {
     "name": "stdout",
     "output_type": "stream",
     "text": [
      "(60000, 28, 28)\n",
      "(28, 28)\n"
     ]
    }
   ],
   "source": [
    "mnist = tf.keras.datasets.mnist\n",
    "(X_train, y_train), (X_test, y_test) = mnist.load_data()\n",
    "\n",
    "# 標準化數據\n",
    "X_train = X_train/255.0\n",
    "X_test = X_test/255.0\n",
    "print(X_train.shape)\n",
    "print(X_train[0].shape)"
   ]
  },
  {
   "cell_type": "markdown",
   "metadata": {},
   "source": [
    "## 模型建立的流程\n",
    "模型的建議大概如下圖所示，在宣告Sequential model框架後，依序增加神經層。然後編譯，最後訓練模型。並在訓練後預測測試資料與評估模型。\n",
    "<img src='images/Keras sequential 模型建立.png'/>"
   ]
  },
  {
   "cell_type": "markdown",
   "metadata": {},
   "source": [
    "## 2.建立順序型架構模型 model"
   ]
  },
  {
   "cell_type": "code",
   "execution_count": 38,
   "metadata": {},
   "outputs": [],
   "source": [
    "model = Sequential()"
   ]
  },
  {
   "cell_type": "markdown",
   "metadata": {},
   "source": [
    "### 加入RNN層\n"
   ]
  },
  {
   "cell_type": "code",
   "execution_count": 39,
   "metadata": {},
   "outputs": [],
   "source": [
    "model.add(SimpleRNN(units=128, activation='tanh', return_sequences=True))"
   ]
  },
  {
   "cell_type": "markdown",
   "metadata": {},
   "source": [
    "#### 參數 return_sequences=True 很重要。\n",
    "- return_sequences: 布林值。是返回输出序列中的最後一個輸出，還是完整的序列。(Keras官網)\n",
    "- 沒有設定成True的話，第二個RNN層得到的輸入會只剩下1維(simpleRNN是全連接的NN, 輸出相當於 (1, units))。\n",
    "- return_sequences會讓輸出以相當於輸入的序列傳遞到下一層。\n",
    "- 如果不打算放第二層RNN就不用管這個了(defalt: False)\n",
    "\n",
    "#### Note: 因為RNN對輸入有要求，所以如果放在第一層要確認好輸入的形式。否則第一層可以透過CNN來調整輸入資料。"
   ]
  },
  {
   "cell_type": "markdown",
   "metadata": {},
   "source": [
    "### 依序繼續搭建整個神經網路\n",
    "\n"
   ]
  },
  {
   "cell_type": "code",
   "execution_count": 40,
   "metadata": {},
   "outputs": [],
   "source": [
    "model.add(Dropout(rate=0.2))\n",
    "model.add(SimpleRNN(units=128, activation='relu', return_sequences=False))\n",
    "model.add(Dropout(rate=0.1))\n",
    "model.add(Dense(units=32, activation='relu'))\n",
    "model.add(Dropout(rate=0.2))\n",
    "model.add(Dense(units=10, activation='softmax'))"
   ]
  },
  {
   "cell_type": "markdown",
   "metadata": {},
   "source": [
    "### 設定最佳化器\n",
    "\n",
    "Adam會動態調整Learning Rate，並具有慣量，讓他能夠衝破Local Minimun的侷限。"
   ]
  },
  {
   "cell_type": "code",
   "execution_count": 41,
   "metadata": {},
   "outputs": [],
   "source": [
    "opt = tf.keras.optimizers.Adam(lr=0.001, decay=1e-6)"
   ]
  },
  {
   "cell_type": "markdown",
   "metadata": {},
   "source": [
    "### 編譯模型\n",
    "\n",
    "- Loss Function 設定成Crossentropy，並使用accuracy指標來評估訓練效果。"
   ]
  },
  {
   "cell_type": "code",
   "execution_count": 42,
   "metadata": {},
   "outputs": [],
   "source": [
    "model.compile(loss='sparse_categorical_crossentropy',\n",
    "              optimizer=opt, metrics=['accuracy'])"
   ]
  },
  {
   "cell_type": "markdown",
   "metadata": {},
   "source": [
    "### 開始訓練"
   ]
  },
  {
   "cell_type": "code",
   "execution_count": 43,
   "metadata": {},
   "outputs": [
    {
     "name": "stdout",
     "output_type": "stream",
     "text": [
      "Train on 60000 samples, validate on 10000 samples\n",
      "Epoch 1/3\n",
      "60000/60000 [==============================] - 35s 588us/sample - loss: 0.4708 - accuracy: 0.8630 - val_loss: 0.2612 - val_accuracy: 0.9268\n",
      "Epoch 2/3\n",
      "60000/60000 [==============================] - 33s 552us/sample - loss: 0.2580 - accuracy: 0.9318 - val_loss: 0.1602 - val_accuracy: 0.9558\n",
      "Epoch 3/3\n",
      "60000/60000 [==============================] - 34s 560us/sample - loss: 0.2178 - accuracy: 0.9421 - val_loss: 0.1269 - val_accuracy: 0.9676\n"
     ]
    },
    {
     "data": {
      "text/plain": [
       "<tensorflow.python.keras.callbacks.History at 0x7f9b9867f550>"
      ]
     },
     "execution_count": 43,
     "metadata": {},
     "output_type": "execute_result"
    }
   ],
   "source": [
    "model.fit(X_train, y_train, epochs=3, validation_data=(X_test, y_test))"
   ]
  },
  {
   "cell_type": "markdown",
   "metadata": {},
   "source": [
    "### 訓練完畢，計算訓練分數\n",
    "- 這邊是用Keras內建的evaluate計算訓練分數。\n",
    "- 訓練的分數是基於model.compile時設定的metric(指標)來進行計算。\n",
    "- 也可以考慮用sklearn.metrics裡面的函數來計算分數(裡面有諸多包括F1, ROC, AUC...的指標可以用來計算)。 "
   ]
  },
  {
   "cell_type": "code",
   "execution_count": 44,
   "metadata": {},
   "outputs": [
    {
     "name": "stdout",
     "output_type": "stream",
     "text": [
      "測試損失度: 0.12693377749845386\n",
      "測試準確率: 0.9676\n"
     ]
    }
   ],
   "source": [
    "score = model.evaluate(X_test, y_test, verbose=0)\n",
    "\n",
    "print('測試損失度:', score[0])\n",
    "print('測試準確率:', score[1])"
   ]
  },
  {
   "cell_type": "markdown",
   "metadata": {},
   "source": [
    "## 總結一下整個Sequential model的流程\n",
    "<br>\n",
    "<img src='images/簡單RNN模型_sequential.png'/>"
   ]
  },
  {
   "cell_type": "markdown",
   "metadata": {},
   "source": [
    "## 3.導入影像進行預測教學:"
   ]
  },
  {
   "cell_type": "markdown",
   "metadata": {},
   "source": [
    "### 針對前500張test資料集做預測\n",
    "利用python內建的slice方法來分割資料，抓取位於測試資料集的前500筆資料(包括作為解答的classes)"
   ]
  },
  {
   "cell_type": "code",
   "execution_count": 45,
   "metadata": {},
   "outputs": [
    {
     "name": "stdout",
     "output_type": "stream",
     "text": [
      "(500, 28, 28)\n",
      "(500,)\n"
     ]
    }
   ],
   "source": [
    "test_X1 = X_test[:500]\n",
    "test_y1 = y_test[:500]\n",
    "print(test_X1.shape)\n",
    "print(test_y1.shape)"
   ]
  },
  {
   "cell_type": "markdown",
   "metadata": {},
   "source": [
    "### 定義一個基於matplotlib.pyplot的影像輸出函數"
   ]
  },
  {
   "cell_type": "code",
   "execution_count": 48,
   "metadata": {},
   "outputs": [],
   "source": [
    "def plot_img(img):\n",
    "    plt.figure(figsize=(10, 5))\n",
    "    plt.imshow(img, cmap='binary')\n",
    "    plt.show()"
   ]
  },
  {
   "cell_type": "markdown",
   "metadata": {},
   "source": [
    "### 進行預測\n",
    "- 透過model.predict_classes可以辨識輸入圖片的類別。\n",
    "- 如果把資料集丟進去他會預測整個資料集的類別摒除成一個矩陣。\n",
    "- 由於訓練時輸入的圖片維度是(28, 28)，預測時也必須符合這個條件。"
   ]
  },
  {
   "cell_type": "code",
   "execution_count": 50,
   "metadata": {},
   "outputs": [],
   "source": [
    "ans = model.predict_classes(test_X1)  # 使用model預測"
   ]
  },
  {
   "cell_type": "markdown",
   "metadata": {},
   "source": [
    "### 進行錯誤分析\n",
    "\n",
    "1. 將上一行code所取得的predict_classes放到ans矩陣後。\n",
    "2. 在for迴圈內\"依序\"與實際的Class(tesy_y1)做比較。\n",
    "3. 透過變數wrong_num計數辨識錯誤，並輸出錯誤數量。\n",
    "4. 將預測錯誤的影像依序儲存到矩陣img之中。\n",
    "5. 最後透過 plot_img 這個自定義的函數輸出所有影像，並print出正確率。\n",
    "\n"
   ]
  },
  {
   "cell_type": "code",
   "execution_count": 65,
   "metadata": {},
   "outputs": [
    {
     "name": "stdout",
     "output_type": "stream",
     "text": [
      "\t[Info] Error analysis:\n",
      "\tAt 62'th: 9 is with wrong prediction as 5!\n",
      "\tAt 151'th: 9 is with wrong prediction as 8!\n",
      "\tAt 184'th: 8 is with wrong prediction as 2!\n",
      "\tAt 195'th: 3 is with wrong prediction as 2!\n",
      "\tAt 209'th: 9 is with wrong prediction as 4!\n",
      "\tAt 241'th: 9 is with wrong prediction as 8!\n",
      "\tAt 247'th: 4 is with wrong prediction as 6!\n",
      "\tAt 259'th: 6 is with wrong prediction as 0!\n",
      "\tAt 290'th: 8 is with wrong prediction as 4!\n",
      "\tAt 320'th: 9 is with wrong prediction as 1!\n",
      "\tAt 321'th: 2 is with wrong prediction as 7!\n",
      "\tAt 326'th: 2 is with wrong prediction as 6!\n",
      "\tAt 381'th: 3 is with wrong prediction as 7!\n",
      "\tAt 412'th: 5 is with wrong prediction as 9!\n",
      "\tAt 435'th: 8 is with wrong prediction as 9!\n",
      "\tAt 445'th: 6 is with wrong prediction as 0!\n",
      "\tAt 447'th: 4 is with wrong prediction as 9!\n",
      "\tAt 449'th: 3 is with wrong prediction as 5!\n",
      "\tAt 495'th: 8 is with wrong prediction as 6!\n",
      "所有錯誤圖片:\n"
     ]
    },
    {
     "data": {
      "image/png": "[encoded data removed]",
      "text/plain": [
       "<Figure size 720x360 with 1 Axes>"
      ]
     },
     "metadata": {
      "needs_background": "light"
     },
     "output_type": "display_data"
    },
    {
     "name": "stdout",
     "output_type": "stream",
     "text": [
      "正確率 = 0.962000(19/500)\n"
     ]
    }
   ],
   "source": [
    "print(\"\\t[Info] Error analysis:\")\n",
    "wrong_num = 0\n",
    "img = np.array([])\n",
    "\n",
    "for i in range(len(test_X1)):\n",
    "    if ans[i] != test_y1[i]:\n",
    "        print(\"\\tAt %d'th: %d is with wrong prediction as %d!\"\n",
    "              % (i, test_y1[i], ans[i]))\n",
    "        if wrong_num == 0:\n",
    "            img = np.array(test_X1[i])\n",
    "        else:\n",
    "            img = np.concatenate((img, test_X1[i]), axis=1)\n",
    "        wrong_num += 1\n",
    "        # plot_img(test_X1[i])\n",
    "print(\"所有錯誤圖片:\")\n",
    "plot_img(img)\n",
    "print(\"正確率 = %f(%d/%d)\" % ((1-(wrong_num/len(test_X1))),\n",
    "                           wrong_num, len(test_X1)))"
   ]
  },
  {
   "cell_type": "markdown",
   "metadata": {},
   "source": [
    "---"
   ]
  },
  {
   "cell_type": "markdown",
   "metadata": {},
   "source": [
    "# Practice 1\n",
    "1. 把RNN cell換成LSTM觀察Accuracy是否會上升? (hint: tf.nn.rnn_cell.BasicLSTMCell)\n",
    "2. 把RNN cell換成GRU觀察Accuracy是否會上升? (hint: tf.nn.rnn_cell.GRUCell)\n",
    "\n",
    "#### answer is in MNIST_answer.ipynb"
   ]
  }
 ],
 "metadata": {
  "kernelspec": {
   "display_name": "Python 3",
   "language": "python",
   "name": "python3"
  },
  "language_info": {
   "codemirror_mode": {
    "name": "ipython",
    "version": 3
   },
   "file_extension": ".py",
   "mimetype": "text/x-python",
   "name": "python",
   "nbconvert_exporter": "python",
   "pygments_lexer": "ipython3",
   "version": "3.7.3"
  }
 },
 "nbformat": 4,
 "nbformat_minor": 4
}
